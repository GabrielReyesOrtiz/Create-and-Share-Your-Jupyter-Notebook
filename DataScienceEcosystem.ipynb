{
 "cells": [
  {
   "cell_type": "markdown",
   "id": "c220e2a8-f831-4884-9d35-026aa469a05a",
   "metadata": {},
   "source": [
    "# Data Science Tools and Ecosystem"
   ]
  },
  {
   "cell_type": "markdown",
   "id": "0835f5a2-d25a-4e03-8f7c-bd43326b426a",
   "metadata": {},
   "source": [
    "In this notebook, Data Science Tools and Ecosystem are summarized."
   ]
  },
  {
   "cell_type": "markdown",
   "id": "1a0c43a9-15c2-433e-b903-b550253fb0ad",
   "metadata": {},
   "source": [
    "**Objectives:**\r",
    "- List popular languages for Data Science\r\n",
    "- Introduce basic arithmetic operations in Python\r\n",
    "- Demonstrate the use of Markdown in Jupyter Notebook\r\n",
    "\n"
   ]
  },
  {
   "cell_type": "markdown",
   "id": "4a0c5152-1e61-4579-a4c2-f629cd68d8fe",
   "metadata": {},
   "source": [
    "Some of the popular languages that Data Scientists use are:\r\n",
    "\r\n",
    "1. Python\r\n",
    "2. R\r\n",
    "3. SQL\r\n"
   ]
  },
  {
   "cell_type": "markdown",
   "id": "af994e7e-2424-47f1-88eb-ea9a1f0f7924",
   "metadata": {},
   "source": [
    "Some of the commonly used libraries used by Data Scientists include:\r\n",
    "\r\n",
    "1. Pandas (Python)\r\n",
    "2. NumPy (Python)\r\n",
    "3. Matplotlib (Python)\r\n"
   ]
  },
  {
   "cell_type": "markdown",
   "id": "b24bdcb3-d718-49f5-8471-bbff3505b4b2",
   "metadata": {},
   "source": [
    "| Data Science Tools    |\r\n",
    "|-----------------------|\r\n",
    "| Jupyter Notebook      |\r\n",
    "| RStudio               |\r\n",
    "| VS Code + Python      |\r\n"
   ]
  },
  {
   "cell_type": "markdown",
   "id": "ffc17953-f860-4f69-b0fd-cbba3f9231ad",
   "metadata": {},
   "source": [
    "### Below are a few examples of evaluating arithmetic expressions in Python.\r\n"
   ]
  },
  {
   "cell_type": "code",
   "execution_count": 2,
   "id": "fe97d733-1d81-4c45-943e-06f689f0a887",
   "metadata": {},
   "outputs": [
    {
     "data": {
      "text/plain": [
       "17"
      ]
     },
     "execution_count": 2,
     "metadata": {},
     "output_type": "execute_result"
    }
   ],
   "source": [
    "# This is a simple arithmetic expression to multiply then add integers\n",
    "(3 * 4) + 5"
   ]
  },
  {
   "cell_type": "code",
   "execution_count": 3,
   "id": "43f5a3ac-1a4b-4f3e-8a49-4ee4b6a5678e",
   "metadata": {},
   "outputs": [
    {
     "data": {
      "text/plain": [
       "3.3333333333333335"
      ]
     },
     "execution_count": 3,
     "metadata": {},
     "output_type": "execute_result"
    }
   ],
   "source": [
    "# This will convert 200 minutes to hours by dividing by 60\n",
    "200 / 60\n"
   ]
  },
  {
   "cell_type": "markdown",
   "id": "e603e0f4-0e53-4f88-8095-3c33e65ccd36",
   "metadata": {},
   "source": [
    "## Author\r",
    "Gabriel Reyes Ortiz\n"
   ]
  }
 ],
 "metadata": {
  "kernelspec": {
   "display_name": "Python 3 (ipykernel)",
   "language": "python",
   "name": "python3"
  },
  "language_info": {
   "codemirror_mode": {
    "name": "ipython",
    "version": 3
   },
   "file_extension": ".py",
   "mimetype": "text/x-python",
   "name": "python",
   "nbconvert_exporter": "python",
   "pygments_lexer": "ipython3",
   "version": "3.11.7"
  }
 },
 "nbformat": 4,
 "nbformat_minor": 5
}
